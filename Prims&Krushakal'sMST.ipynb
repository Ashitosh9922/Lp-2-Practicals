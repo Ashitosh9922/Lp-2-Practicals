{
 "cells": [
  {
   "cell_type": "code",
   "execution_count": 19,
   "id": "0f1fef1b-92b3-4ff9-9e80-3942d6c88163",
   "metadata": {},
   "outputs": [
    {
     "name": "stdout",
     "output_type": "stream",
     "text": [
      "Heuristic is used for helping to choose the next edge. If the heuristic values are lower, they are preferred.\n",
      "\n"
     ]
    },
    {
     "name": "stdin",
     "output_type": "stream",
     "text": [
      "Enter the number of vertices:  4\n"
     ]
    },
    {
     "name": "stdout",
     "output_type": "stream",
     "text": [
      "\n",
      "Enter the graph as an adjacency matrix (use 0 for no edge):\n"
     ]
    },
    {
     "name": "stdin",
     "output_type": "stream",
     "text": [
      "Row 0:  0 2 0 6\n",
      "Row 1:  2 0 3 8\n",
      "Row 2:  0 3 0 0\n",
      "Row 3:  6 8 0 0\n"
     ]
    },
    {
     "name": "stdout",
     "output_type": "stream",
     "text": [
      "\n",
      "Enter heuristic values for each vertex:\n"
     ]
    },
    {
     "name": "stdin",
     "output_type": "stream",
     "text": [
      "Heuristic value for vertex 0:  5 \n",
      "Heuristic value for vertex 1:  3\n",
      "Heuristic value for vertex 2:  2\n",
      "Heuristic value for vertex 3:  4\n",
      "\n",
      "Enter the source vertex (0 to V-1):  0\n"
     ]
    },
    {
     "name": "stdout",
     "output_type": "stream",
     "text": [
      "\n",
      "Edge \tWeight \tHeuristic Value\n",
      "0 - 1 \t 2 \t 3\n",
      "1 - 2 \t 3 \t 2\n",
      "0 - 3 \t 6 \t 4\n",
      "\n",
      "Total MST Cost: 11\n"
     ]
    }
   ],
   "source": [
    "#Minimum Spanning Tree Prims\n",
    "import sys\n",
    "\n",
    "class Graph():\n",
    "    def __init__(self, vertices):\n",
    "        self.V = vertices\n",
    "        self.graph = [[0 for _ in range(vertices)] for _ in range(vertices)]\n",
    "\n",
    "    def printMST(self, parent, heuristics, total_cost):\n",
    "        print(\"\\nEdge \\tWeight \\tHeuristic Value\")\n",
    "        for i in range(1, self.V):\n",
    "            print(f\"{parent[i]} - {i} \\t {self.graph[i][parent[i]]} \\t {heuristics[i]}\")\n",
    "        print(f\"\\nTotal MST Cost: {total_cost}\")\n",
    "\n",
    "    def minKey(self, key, mstSet):\n",
    "        min_val = sys.maxsize\n",
    "        min_index = -1\n",
    "        for v in range(self.V):\n",
    "            if key[v] < min_val and not mstSet[v]:\n",
    "                min_val = key[v]\n",
    "                min_index = v\n",
    "        return min_index\n",
    "\n",
    "    def primMST(self, heuristics, source=0):\n",
    "        key = [sys.maxsize] * self.V\n",
    "        parent = [None] * self.V\n",
    "        key[source] = 0\n",
    "        mstSet = [False] * self.V\n",
    "        parent[source] = -1\n",
    "\n",
    "        for _ in range(self.V):\n",
    "            u = self.minKey(key, mstSet)\n",
    "            mstSet[u] = True\n",
    "\n",
    "            for v in range(self.V):\n",
    "                if self.graph[u][v] > 0 and not mstSet[v] and self.graph[u][v] < key[v]:\n",
    "                    key[v] = self.graph[u][v]\n",
    "                    parent[v] = u\n",
    "\n",
    "        total_cost = sum(self.graph[i][parent[i]] for i in range(1, self.V))\n",
    "        self.printMST(parent, heuristics, total_cost)\n",
    "\n",
    "if __name__ == '__main__':             \n",
    "    print(\"Heuristic is used for helping to choose the next edge. If the heuristic values are lower, they are preferred.\\n\")\n",
    "\n",
    "    vertices = int(input(\"Enter the number of vertices: \"))\n",
    "    g = Graph(vertices)\n",
    "\n",
    "    print(\"\\nEnter the graph as an adjacency matrix (use 0 for no edge):\")\n",
    "    for i in range(vertices):\n",
    "        row = list(map(int, input(f\"Row {i}: \").split()))\n",
    "        for j in range(vertices):\n",
    "            g.graph[i][j] = row[j]\n",
    "\n",
    "    heuristics = []\n",
    "    print(\"\\nEnter heuristic values for each vertex:\")\n",
    "    for i in range(vertices):\n",
    "        h_value = int(input(f\"Heuristic value for vertex {i}: \"))\n",
    "        heuristics.append(h_value)\n",
    "\n",
    "    source_vertex = int(input(\"\\nEnter the source vertex (0 to V-1): \"))\n",
    "    g.primMST(heuristics, source=source_vertex)\n"
   ]
  },
  {
   "cell_type": "code",
   "execution_count": 3,
   "id": "f26fd365-8fef-43e8-8c7b-6d22785a9152",
   "metadata": {},
   "outputs": [
    {
     "name": "stdout",
     "output_type": "stream",
     "text": [
      "Heuristic is used for helping to choose the next edge. If the heuristic value is low, the edge is preferred.\n"
     ]
    },
    {
     "name": "stdin",
     "output_type": "stream",
     "text": [
      "Enter the number of vertices:  4\n",
      "Enter the number of edges:  5\n"
     ]
    },
    {
     "name": "stdout",
     "output_type": "stream",
     "text": [
      "Enter the edges in the format: u v weight heuristic\n"
     ]
    },
    {
     "name": "stdin",
     "output_type": "stream",
     "text": [
      " 0 1 10 1\n",
      " 0 2 6 2\n",
      " 0 3 5 0\n",
      " 1 3 15 3\n",
      " 2 3 4 1\n"
     ]
    },
    {
     "name": "stdout",
     "output_type": "stream",
     "text": [
      "\n",
      "Edges in the constructed MST:\n",
      "0 -- 3 == 5\n",
      "2 -- 3 == 4\n",
      "0 -- 1 == 10\n",
      "Minimum Spanning Tree Cost: 19\n"
     ]
    }
   ],
   "source": [
    "#Krushkal's MST\n",
    "class Graph:\n",
    "    def __init__(self, vertices):\n",
    "        self.V = vertices\n",
    "        self.graph = []\n",
    "        self.heuristics = {}\n",
    "\n",
    "    def addEdge(self, u, v, w, h=0):\n",
    "        self.graph.append([u, v, w])\n",
    "        self.heuristics[(u, v)] = h\n",
    "        self.heuristics[(v, u)] = h  # assuming undirected graph\n",
    "\n",
    "    def find(self, parent, i):\n",
    "        if parent[i] != i:\n",
    "            parent[i] = self.find(parent, parent[i])\n",
    "        return parent[i]\n",
    "\n",
    "    def union(self, parent, rank, x, y):\n",
    "        if rank[x] < rank[y]:\n",
    "            parent[x] = y\n",
    "        elif rank[x] > rank[y]:\n",
    "            parent[y] = x\n",
    "        else:\n",
    "            parent[y] = x\n",
    "            rank[x] += 1\n",
    "\n",
    "    def KruskalMST(self):\n",
    "        result = []\n",
    "        i = 0  # index for sorted edges\n",
    "        e = 0  # number of edges in result\n",
    "\n",
    "        # Sort edges based on (weight + heuristic)\n",
    "        self.graph.sort(key=lambda item: item[2] + self.heuristics.get((item[0], item[1]), 0))\n",
    "\n",
    "        parent = list(range(self.V))\n",
    "        rank = [0] * self.V\n",
    "\n",
    "        while e < self.V - 1 and i < len(self.graph):\n",
    "            u, v, w = self.graph[i]\n",
    "            i += 1\n",
    "            x = self.find(parent, u)\n",
    "            y = self.find(parent, v)\n",
    "\n",
    "            if x != y:\n",
    "                e += 1\n",
    "                result.append([u, v, w])\n",
    "                self.union(parent, rank, x, y)\n",
    "\n",
    "        minimumCost = sum([weight for _, _, weight in result])\n",
    "        print(\"\\nEdges in the constructed MST:\")\n",
    "        for u, v, weight in result:\n",
    "            print(f\"{u} -- {v} == {weight}\")\n",
    "        print(\"Minimum Spanning Tree Cost:\", minimumCost)\n",
    "\n",
    "\n",
    "if __name__ == '__main__':           \n",
    "    print(\"Heuristic is used for helping to choose the next edge. \"\n",
    "          \"If the heuristic value is low, the edge is preferred.\")\n",
    "\n",
    "    vertices = int(input(\"Enter the number of vertices: \"))\n",
    "    g = Graph(vertices)\n",
    "    edges = int(input(\"Enter the number of edges: \"))\n",
    "    \n",
    "    print(\"Enter the edges in the format: u v weight heuristic\")\n",
    "    for _ in range(edges):\n",
    "        u, v, w, h = map(int, input().split())\n",
    "        g.addEdge(u, v, w, h)\n",
    "\n",
    "    g.KruskalMST()\n"
   ]
  },
  {
   "cell_type": "code",
   "execution_count": null,
   "id": "5e46c18c-b9a7-4368-99d9-7905856c7cce",
   "metadata": {},
   "outputs": [],
   "source": []
  }
 ],
 "metadata": {
  "kernelspec": {
   "display_name": "Python 3 (ipykernel)",
   "language": "python",
   "name": "python3"
  },
  "language_info": {
   "codemirror_mode": {
    "name": "ipython",
    "version": 3
   },
   "file_extension": ".py",
   "mimetype": "text/x-python",
   "name": "python",
   "nbconvert_exporter": "python",
   "pygments_lexer": "ipython3",
   "version": "3.12.4"
  }
 },
 "nbformat": 4,
 "nbformat_minor": 5
}
