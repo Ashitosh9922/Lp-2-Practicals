{
 "cells": [
  {
   "cell_type": "code",
   "execution_count": 11,
   "id": "6dd16fde-8a6c-400c-8d2d-9189bb467e89",
   "metadata": {},
   "outputs": [
    {
     "name": "stdout",
     "output_type": "stream",
     "text": [
      "Neighbor with lowest heuristic value is selected\n"
     ]
    },
    {
     "name": "stdin",
     "output_type": "stream",
     "text": [
      "Enter the number of edges:  5\n",
      "Enter edge (source destination weight):  A B 1\n",
      "Enter edge (source destination weight):  A C 1\n",
      "Enter edge (source destination weight):  B D 1\n",
      "Enter edge (source destination weight):  C D 1\n",
      "Enter edge (source destination weight):  D E 1\n"
     ]
    },
    {
     "name": "stdout",
     "output_type": "stream",
     "text": [
      "\n",
      "Enter heuristic values (node heuristic):\n"
     ]
    },
    {
     "name": "stdin",
     "output_type": "stream",
     "text": [
      "Heuristic for A:  5\n",
      "Heuristic for B:  3\n",
      "Heuristic for C:  4\n",
      "Heuristic for D:  2\n",
      "Heuristic for E:  0\n",
      "Enter the source node:  A\n",
      "Enter the goal node:  E\n"
     ]
    },
    {
     "name": "stdout",
     "output_type": "stream",
     "text": [
      "Visiting: A\n",
      "Visiting: B\n",
      "Visiting: D\n",
      "Goal E reached!\n",
      "\n",
      "Path taken:\n",
      "A -> B -> D -> E\n"
     ]
    }
   ],
   "source": [
    "#Single-source shortest Path\n",
    "def greedy_best_first_search(graph, source, goal, heuristic):\n",
    "    visited = set()\n",
    "    path = []\n",
    "    current = source\n",
    "    while current != goal:\n",
    "        print(f\"Visiting: {current}\")\n",
    "        visited.add(current)\n",
    "        path.append(current)\n",
    "        \n",
    "        # Get all unvisited neighbors\n",
    "        neighbors = [n for n in graph[current] if n not in visited]\n",
    "        \n",
    "        if not neighbors:\n",
    "            print(\"No path found!\")\n",
    "            return path\n",
    "        \n",
    "        # Choose neighbor with lowest heuristic h(n)\n",
    "        current = min(neighbors, key=lambda node: heuristic.get(node, float('inf')))\n",
    "    \n",
    "    path.append(goal)\n",
    "    print(f\"Goal {goal} reached!\")\n",
    "    return path\n",
    "\n",
    "\n",
    "print(\"Neighbor with lowest heuristic value is selected\")\n",
    "\n",
    "# Input graph edges\n",
    "graph = {}\n",
    "n = int(input(\"Enter the number of edges: \"))\n",
    "for _ in range(n):\n",
    "    edge = input(\"Enter edge (source destination weight): \").split()\n",
    "    source, destination, weight = edge[0], edge[1], int(edge[2])\n",
    "    \n",
    "    if source not in graph:\n",
    "        graph[source] = {}\n",
    "    graph[source][destination] = weight\n",
    "    \n",
    "    # Ensure destination node exists\n",
    "    if destination not in graph:\n",
    "        graph[destination] = {}\n",
    "\n",
    "# Get heuristic values\n",
    "heuristic = {}\n",
    "print(\"\\nEnter heuristic values (node heuristic):\")\n",
    "for node in graph:\n",
    "    h = int(input(f\"Heuristic for {node}: \"))\n",
    "    heuristic[node] = h\n",
    "\n",
    "# Start search\n",
    "source = input(\"Enter the source node: \")\n",
    "goal = input(\"Enter the goal node: \")\n",
    "\n",
    "path = greedy_best_first_search(graph, source, goal, heuristic)\n",
    "\n",
    "# Output the path taken\n",
    "print(\"\\nPath taken:\")\n",
    "print(\" -> \".join(path))\n",
    "\n",
    "\n"
   ]
  },
  {
   "cell_type": "code",
   "execution_count": 15,
   "id": "d86d5280-ca75-4492-96df-99019ef099b4",
   "metadata": {},
   "outputs": [
    {
     "name": "stdout",
     "output_type": "stream",
     "text": [
      "\n",
      "Jobs with higher profit and lower deadline will have a higher heuristic\n",
      "A high heuristic value suggests the job is more urgent and more rewarding\n"
     ]
    },
    {
     "name": "stdin",
     "output_type": "stream",
     "text": [
      "\n",
      "Enter the number of jobs:  4\n",
      "Enter the profit of job 1:  100\n",
      "Enter the name of job 1:  A\n",
      "Enter the deadline of job 1:  2\n",
      "Enter the profit of job 2:  19\n",
      "Enter the name of job 2:  B\n",
      "Enter the deadline of job 2:  1\n",
      "Enter the profit of job 3:  27\n",
      "Enter the name of job 3:  C\n",
      "Enter the deadline of job 3:  2\n",
      "Enter the profit of job 4:  25\n",
      "Enter the name of job 4:  D\n",
      "Enter the deadline of job 4:  1\n"
     ]
    },
    {
     "name": "stdout",
     "output_type": "stream",
     "text": [
      "\n",
      "Jobs scheduled: ['D', 'A']\n",
      "Total profit: 125\n"
     ]
    }
   ],
   "source": [
    "#Job Scheduling\n",
    "def heuristic(profit, deadline):\n",
    "    return profit / deadline if deadline != 0 else profit\n",
    "\n",
    "profit = []\n",
    "jobs = []\n",
    "deadline = []\n",
    "\n",
    "print(\"\\nJobs with higher profit and lower deadline will have a higher heuristic\")\n",
    "print(\"A high heuristic value suggests the job is more urgent and more rewarding\")\n",
    "\n",
    "n = int(input(\"\\nEnter the number of jobs: \"))\n",
    "\n",
    "for i in range(n):\n",
    "    p = int(input(f\"Enter the profit of job {i + 1}: \"))\n",
    "    profit.append(p)\n",
    "    j = input(f\"Enter the name of job {i + 1}: \")\n",
    "    jobs.append(j)\n",
    "    d = int(input(f\"Enter the deadline of job {i + 1}: \"))\n",
    "    deadline.append(d)\n",
    "\n",
    "job_data = []\n",
    "for i in range(n):\n",
    "    h = heuristic(profit[i], deadline[i])\n",
    "    job_data.append((h, profit[i], jobs[i], deadline[i]))\n",
    "\n",
    "job_data.sort(key=lambda x: x[0], reverse=True)\n",
    "\n",
    "max_deadline = max(deadline)\n",
    "slot = [0] * (max_deadline + 1)\n",
    "scheduled_jobs = ['null'] * (max_deadline + 1)\n",
    "total_profit = 0\n",
    "\n",
    "for h, p, name, d in job_data:\n",
    "    for j in range(min(d, max_deadline), 0, -1):\n",
    "        if slot[j] == 0:\n",
    "            scheduled_jobs[j] = name\n",
    "            slot[j] = 1\n",
    "            total_profit += p\n",
    "            break\n",
    "\n",
    "print(\"\\nJobs scheduled:\", [job for job in scheduled_jobs[1:] if job != 'null'])\n",
    "print(\"Total profit:\", total_profit)\n"
   ]
  },
  {
   "cell_type": "code",
   "execution_count": null,
   "id": "6d6d3e5e-ce26-481a-9984-f2bcb7543e33",
   "metadata": {},
   "outputs": [],
   "source": []
  }
 ],
 "metadata": {
  "kernelspec": {
   "display_name": "Python 3 (ipykernel)",
   "language": "python",
   "name": "python3"
  },
  "language_info": {
   "codemirror_mode": {
    "name": "ipython",
    "version": 3
   },
   "file_extension": ".py",
   "mimetype": "text/x-python",
   "name": "python",
   "nbconvert_exporter": "python",
   "pygments_lexer": "ipython3",
   "version": "3.12.4"
  }
 },
 "nbformat": 4,
 "nbformat_minor": 5
}
