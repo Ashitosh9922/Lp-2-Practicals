{
 "cells": [
  {
   "cell_type": "code",
   "execution_count": 1,
   "id": "f26fd365-8fef-43e8-8c7b-6d22785a9152",
   "metadata": {},
   "outputs": [
    {
     "name": "stdout",
     "output_type": "stream",
     "text": [
      "Heuristic is used for helping to choose the next edge. If the heuristic value is low, the edge is preferred.\n"
     ]
    },
    {
     "name": "stdin",
     "output_type": "stream",
     "text": [
      "Enter the number of vertices:  4\n",
      "Enter the number of edges:  5\n"
     ]
    },
    {
     "name": "stdout",
     "output_type": "stream",
     "text": [
      "Enter the edges in the format: u v weight heuristic\n"
     ]
    },
    {
     "name": "stdin",
     "output_type": "stream",
     "text": [
      " 0 1 10 1\n",
      " 0 2 6 2\n",
      " 0 3 5 0\n",
      " 1 3 15 3\n",
      " 2 3 4 1\n"
     ]
    },
    {
     "name": "stdout",
     "output_type": "stream",
     "text": [
      "\n",
      "Edges in the constructed MST:\n",
      "0 -- 3 == 5\n",
      "2 -- 3 == 4\n",
      "0 -- 1 == 10\n",
      "Minimum Spanning Tree Cost: 19\n"
     ]
    }
   ],
   "source": [
    "#Krushkal's MST\n",
    "class Graph:\n",
    "    def __init__(self, vertices):\n",
    "        self.V = vertices\n",
    "        self.graph = []\n",
    "        self.heuristics = {}\n",
    "\n",
    "    def addEdge(self, u, v, w, h=0):\n",
    "        self.graph.append([u, v, w])\n",
    "        self.heuristics[(u, v)] = h\n",
    "        self.heuristics[(v, u)] = h  # assuming undirected graph\n",
    "\n",
    "    def find(self, parent, i):\n",
    "        if parent[i] != i:\n",
    "            parent[i] = self.find(parent, parent[i])\n",
    "        return parent[i]\n",
    "\n",
    "    def union(self, parent, rank, x, y):\n",
    "        if rank[x] < rank[y]:\n",
    "            parent[x] = y\n",
    "        elif rank[x] > rank[y]:\n",
    "            parent[y] = x\n",
    "        else:\n",
    "            parent[y] = x\n",
    "            rank[x] += 1\n",
    "\n",
    "    def KruskalMST(self):\n",
    "        result = []\n",
    "        i = 0  # index for sorted edges\n",
    "        e = 0  # number of edges in result\n",
    "\n",
    "        # Sort edges based on (weight + heuristic)\n",
    "        self.graph.sort(key=lambda item: item[2] + self.heuristics.get((item[0], item[1]), 0))\n",
    "\n",
    "        parent = list(range(self.V))\n",
    "        rank = [0] * self.V\n",
    "\n",
    "        while e < self.V - 1 and i < len(self.graph):\n",
    "            u, v, w = self.graph[i]\n",
    "            i += 1\n",
    "            x = self.find(parent, u)\n",
    "            y = self.find(parent, v)\n",
    "\n",
    "            if x != y:\n",
    "                e += 1\n",
    "                result.append([u, v, w])\n",
    "                self.union(parent, rank, x, y)\n",
    "\n",
    "        minimumCost = sum([weight for _, _, weight in result])\n",
    "        print(\"\\nEdges in the constructed MST:\")\n",
    "        for u, v, weight in result:\n",
    "            print(f\"{u} -- {v} == {weight}\")\n",
    "        print(\"Minimum Spanning Tree Cost:\", minimumCost)\n",
    "\n",
    "\n",
    "if __name__ == '__main__':           \n",
    "    print(\"Heuristic is used for helping to choose the next edge. \"\n",
    "          \"If the heuristic value is low, the edge is preferred.\")\n",
    "\n",
    "    vertices = int(input(\"Enter the number of vertices: \"))\n",
    "    g = Graph(vertices)\n",
    "    edges = int(input(\"Enter the number of edges: \"))\n",
    "    \n",
    "    print(\"Enter the edges in the format: u v weight heuristic\")\n",
    "    for _ in range(edges):\n",
    "        u, v, w, h = map(int, input().split())\n",
    "        g.addEdge(u, v, w, h)\n",
    "\n",
    "    g.KruskalMST()\n"
   ]
  },
  {
   "cell_type": "code",
   "execution_count": 3,
   "id": "5e46c18c-b9a7-4368-99d9-7905856c7cce",
   "metadata": {},
   "outputs": [
    {
     "name": "stdout",
     "output_type": "stream",
     "text": [
      "Here we look for neighbors of node and select the neighbor with lowest heuristic value.\n"
     ]
    },
    {
     "name": "stdin",
     "output_type": "stream",
     "text": [
      "Enter the number of vertices:  5\n"
     ]
    },
    {
     "name": "stdout",
     "output_type": "stream",
     "text": [
      "Enter the adjacency matrix (0 for no edge):\n"
     ]
    },
    {
     "name": "stdin",
     "output_type": "stream",
     "text": [
      "Row 0:  0 1 1 0 0\n",
      "Row 1:   0 0 0 1 1\n",
      "Row 2:  0 1 0 0 1\n",
      "Row 3:  0 0 0 0 1\n",
      "Row 4:   0 0 0 0 0\n"
     ]
    },
    {
     "name": "stdout",
     "output_type": "stream",
     "text": [
      "\n",
      "Enter heuristic values for each vertex:\n"
     ]
    },
    {
     "name": "stdin",
     "output_type": "stream",
     "text": [
      "Heuristic for vertex 0:  7\n",
      "Heuristic for vertex 1:  6\n",
      "Heuristic for vertex 2:  2\n",
      "Heuristic for vertex 3:  1\n",
      "Heuristic for vertex 4:  0\n",
      "\n",
      "Enter the source vertex:  0\n",
      "Enter the goal vertex:  4\n"
     ]
    },
    {
     "name": "stdout",
     "output_type": "stream",
     "text": [
      "\n",
      "Path Taken (Greedy Best First Search):\n",
      "0 -> 2 -> 4\n"
     ]
    }
   ],
   "source": [
    "#Dijkshtra's MST\n",
    "import sys\n",
    "\n",
    "class Graph:\n",
    "    def __init__(self, vertices):\n",
    "        self.V = vertices\n",
    "        self.graph = [[0 for _ in range(vertices)] for _ in range(vertices)]\n",
    "        self.heuristic = [0] * vertices\n",
    "\n",
    "    def printPath(self, path):\n",
    "        print(\"\\nPath Taken (Greedy Best First Search):\")\n",
    "        print(\" -> \".join(map(str, path)))\n",
    "\n",
    "    def greedy_best_first_search(self, src, goal):\n",
    "        visited = [False] * self.V\n",
    "        current = src\n",
    "        path = [current]\n",
    "        visited[current] = True\n",
    "        \n",
    "        while current != goal:\n",
    "            min_h = sys.maxsize\n",
    "            next_node = -1\n",
    "            \n",
    "            for neighbor in range(self.V):\n",
    "                if self.graph[current][neighbor] > 0 and not visited[neighbor]:\n",
    "                    if self.heuristic[neighbor] < min_h:\n",
    "                        min_h = self.heuristic[neighbor]\n",
    "                        next_node = neighbor\n",
    "            \n",
    "            if next_node == -1:\n",
    "                print(\"\\nNo path found!\")\n",
    "                return\n",
    "            current = next_node\n",
    "            path.append(current)\n",
    "            visited[current] = True\n",
    "        \n",
    "        self.printPath(path)\n",
    "\n",
    "if __name__ == \"__main__\":\n",
    "    print(\"Here we look for neighbors of node and select the neighbor with lowest heuristic value.\")\n",
    "    \n",
    "    vertices = int(input(\"Enter the number of vertices: \"))\n",
    "    graph = []\n",
    "    print(\"Enter the adjacency matrix (0 for no edge):\")\n",
    "    \n",
    "    for i in range(vertices):\n",
    "        row = list(map(int, input(f\"Row {i}: \").split()))\n",
    "        graph.append(row)\n",
    "    \n",
    "    g = Graph(vertices)\n",
    "    g.graph = graph\n",
    "    \n",
    "    print(\"\\nEnter heuristic values for each vertex:\")\n",
    "    for i in range(vertices):\n",
    "        g.heuristic[i] = int(input(f\"Heuristic for vertex {i}: \"))\n",
    "    \n",
    "    src = int(input(\"\\nEnter the source vertex: \"))\n",
    "    goal = int(input(\"Enter the goal vertex: \"))\n",
    "    \n",
    "    g.greedy_best_first_search(src, goal)\n"
   ]
  },
  {
   "cell_type": "code",
   "execution_count": null,
   "id": "53ef02ea-ccf7-4f5b-9f19-d871ee64b284",
   "metadata": {},
   "outputs": [],
   "source": []
  }
 ],
 "metadata": {
  "kernelspec": {
   "display_name": "Python 3 (ipykernel)",
   "language": "python",
   "name": "python3"
  },
  "language_info": {
   "codemirror_mode": {
    "name": "ipython",
    "version": 3
   },
   "file_extension": ".py",
   "mimetype": "text/x-python",
   "name": "python",
   "nbconvert_exporter": "python",
   "pygments_lexer": "ipython3",
   "version": "3.12.4"
  }
 },
 "nbformat": 4,
 "nbformat_minor": 5
}
