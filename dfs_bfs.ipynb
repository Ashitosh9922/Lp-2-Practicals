{
 "cells": [
  {
   "cell_type": "code",
   "execution_count": 23,
   "id": "6b52b478-ffde-43e0-95bc-6372bd1fb075",
   "metadata": {},
   "outputs": [
    {
     "name": "stdin",
     "output_type": "stream",
     "text": [
      "Enter number of nodes:  4\n",
      "Enter number of edges for node 1:  2\n",
      "Enter edge 1 for node 1:  2\n",
      "Enter edge 2 for node 1:  3\n",
      "Enter number of edges for node 2:  1\n",
      "Enter edge 1 for node 2:  4\n",
      "Enter number of edges for node 3:  0\n",
      "Enter number of edges for node 4:  0\n",
      "Enter starting node for DFS:  1\n"
     ]
    },
    {
     "name": "stdout",
     "output_type": "stream",
     "text": [
      "Recursive DFS using Stack:\n",
      "1 2 4 3 "
     ]
    }
   ],
   "source": [
    "def recursive_dfs_with_stack(graph, stack, visited):\n",
    "    if not stack:#if stack is empty stop the recursion\n",
    "        return\n",
    "    node = stack.pop()\n",
    "    if node not in visited:\n",
    "        print(node, end=\" \")\n",
    "        visited.add(node)\n",
    "        # Add neighbors in reverse order to mimic stack behavior\n",
    "        for neighbor in reversed(graph[node]):\n",
    "            stack.append(neighbor)\n",
    "    recursive_dfs_with_stack(graph, stack, visited)\n",
    "\n",
    "def main_dfs():\n",
    "    visited = set()\n",
    "    graph = {}\n",
    "    n = int(input(\"Enter number of nodes: \"))\n",
    "    \n",
    "    for i in range(1, n + 1):\n",
    "        edges = int(input(f\"Enter number of edges for node {i}: \"))\n",
    "        graph[i] = []\n",
    "        for j in range(edges):\n",
    "            node = int(input(f\"Enter edge {j+1} for node {i}: \"))\n",
    "            graph[i].append(node)\n",
    "    \n",
    "    start_node = int(input(\"Enter starting node for DFS: \"))\n",
    "    print(\"Recursive DFS using Stack:\")\n",
    "    stack = [start_node]\n",
    "    recursive_dfs_with_stack(graph, stack, visited)\n",
    "\n",
    "# Run the DFS program\n",
    "if __name__ == \"__main__\":\n",
    "    main_dfs()\n"
   ]
  },
  {
   "cell_type": "code",
   "execution_count": 31,
   "id": "2ebb90f8-57ec-4fdb-92f7-edc47db70c8d",
   "metadata": {},
   "outputs": [
    {
     "name": "stdin",
     "output_type": "stream",
     "text": [
      "Enter number of nodes:  4\n",
      "Enter number of edges for node 1:  2\n",
      "Enter edge 1 for node 1:  2\n",
      "Enter edge 2 for node 1:  3\n",
      "Enter number of edges for node 2:  1\n",
      "Enter edge 1 for node 2:  4\n",
      "Enter number of edges for node 3:  0\n",
      "Enter number of edges for node 4:  0\n",
      "Enter starting node for BFS:  1\n"
     ]
    },
    {
     "name": "stdout",
     "output_type": "stream",
     "text": [
      "Recursive BFS using Queue:\n",
      "1 2 3 4 "
     ]
    }
   ],
   "source": [
    "def recursive_bfs_with_queue(graph, queue, visited):\n",
    "    if not queue: #If queue is empty the stop the recursion\n",
    "        return\n",
    "    node = queue.pop(0)\n",
    "    print(node, end=\" \")\n",
    "    for neighbor in graph[node]:\n",
    "        if neighbor not in visited:\n",
    "            visited.add(neighbor)\n",
    "            queue.append(neighbor)\n",
    "    recursive_bfs_with_queue(graph, queue, visited)\n",
    "\n",
    "def main_bfs():\n",
    "    visited = set()\n",
    "    graph = {}\n",
    "    n = int(input(\"Enter number of nodes: \"))\n",
    "    \n",
    "    for i in range(1, n + 1):\n",
    "        edges = int(input(f\"Enter number of edges for node {i}: \"))\n",
    "        graph[i] = []\n",
    "        for j in range(edges):\n",
    "            node = int(input(f\"Enter edge {j+1} for node {i}: \"))\n",
    "            graph[i].append(node)\n",
    "\n",
    "    start_node = int(input(\"Enter starting node for BFS: \"))\n",
    "    print(\"Recursive BFS using Queue:\")\n",
    "    visited.add(start_node)\n",
    "    queue = [start_node]\n",
    "\n",
    "    recursive_bfs_with_queue(graph, queue, visited)\n",
    "\n",
    "if __name__ == \"__main__\":\n",
    "    main_bfs()"
   ]
  },
  {
   "cell_type": "code",
   "execution_count": null,
   "id": "17c3fcc5-8eba-4b79-8505-79842cf200af",
   "metadata": {},
   "outputs": [],
   "source": []
  },
  {
   "cell_type": "code",
   "execution_count": null,
   "id": "e9893bab-fae2-4f41-9bad-4329e3b63b6c",
   "metadata": {},
   "outputs": [],
   "source": []
  }
 ],
 "metadata": {
  "kernelspec": {
   "display_name": "Python 3 (ipykernel)",
   "language": "python",
   "name": "python3"
  },
  "language_info": {
   "codemirror_mode": {
    "name": "ipython",
    "version": 3
   },
   "file_extension": ".py",
   "mimetype": "text/x-python",
   "name": "python",
   "nbconvert_exporter": "python",
   "pygments_lexer": "ipython3",
   "version": "3.12.4"
  }
 },
 "nbformat": 4,
 "nbformat_minor": 5
}
