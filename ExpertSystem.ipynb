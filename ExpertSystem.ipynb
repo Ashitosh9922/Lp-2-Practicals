{
 "cells": [
  {
   "cell_type": "code",
   "execution_count": 1,
   "id": "9b34384d-e01c-4e16-b858-cc6bb4202c10",
   "metadata": {},
   "outputs": [
    {
     "name": "stdout",
     "output_type": "stream",
     "text": [
      "=== Expert System: Employee Performance Evaluation ===\n"
     ]
    },
    {
     "name": "stdin",
     "output_type": "stream",
     "text": [
      "Enter Employee Name:  Ashitosh\n",
      "Enter Role/Department:  Software Engineer\n"
     ]
    },
    {
     "name": "stdout",
     "output_type": "stream",
     "text": [
      "\n",
      "Rate the following on a scale of 1 (Poor) to 5 (Excellent):\n"
     ]
    },
    {
     "name": "stdin",
     "output_type": "stream",
     "text": [
      "Teamwork:  5\n",
      "Punctuality:  4\n",
      "Task Completion:  4\n",
      "Communication Skills:  4\n",
      "Problem Solving:  4\n",
      "Leadership (if applicable, else rate as 3):  4\n"
     ]
    },
    {
     "name": "stdout",
     "output_type": "stream",
     "text": [
      "\n",
      "=== Performance Report ===\n",
      "Employee Name: Ashitosh\n",
      "Department/Role: Software Engineer\n",
      "Average Score: 4.17/5\n",
      "Performance Remark: Good\n",
      "Recommendation: Consistent performance. Minor improvements will boost further.\n"
     ]
    }
   ],
   "source": [
    "def evaluate_employee():\n",
    "    print(\"=== Expert System: Employee Performance Evaluation ===\")\n",
    "    \n",
    "    name = input(\"Enter Employee Name: \")\n",
    "    role = input(\"Enter Role/Department: \")\n",
    "    \n",
    "    print(\"\\nRate the following on a scale of 1 (Poor) to 5 (Excellent):\")\n",
    "    teamwork = int(input(\"Teamwork: \"))\n",
    "    punctuality = int(input(\"Punctuality: \"))\n",
    "    task_completion = int(input(\"Task Completion: \"))\n",
    "    communication = int(input(\"Communication Skills: \"))\n",
    "    problem_solving = int(input(\"Problem Solving: \"))\n",
    "    leadership = int(input(\"Leadership (if applicable, else rate as 3): \"))\n",
    "\n",
    "    total_score = teamwork + punctuality + task_completion + communication + problem_solving + leadership\n",
    "    average_score = total_score / 6\n",
    "\n",
    "    if average_score >= 4.5:\n",
    "        remark = \"Outstanding\"\n",
    "        suggestion = \"Keep up the great work. Consider for leadership roles or promotions.\"\n",
    "    elif average_score >= 3.5:\n",
    "        remark = \"Good\"\n",
    "        suggestion = \"Consistent performance. Minor improvements will boost further.\"\n",
    "    elif average_score >= 2.5:\n",
    "        remark = \"Average\"\n",
    "        suggestion = \"Needs improvement in some areas. Consider targeted training.\"\n",
    "    else:\n",
    "        remark = \"Below Average\"\n",
    "        suggestion = \"Immediate attention needed. Schedule a performance review and support plan.\"\n",
    "\n",
    "    print(\"\\n=== Performance Report ===\")\n",
    "    print(f\"Employee Name: {name}\")\n",
    "    print(f\"Department/Role: {role}\")\n",
    "    print(f\"Average Score: {average_score:.2f}/5\")\n",
    "    print(f\"Performance Remark: {remark}\")\n",
    "    print(f\"Recommendation: {suggestion}\")\n",
    "\n",
    "\n",
    "if __name__ == \"__main__\":\n",
    "    evaluate_employee() "
   ]
  },
  {
   "cell_type": "code",
   "execution_count": null,
   "id": "8e100473-c264-49f5-baa5-d2b1c3533815",
   "metadata": {},
   "outputs": [],
   "source": []
  }
 ],
 "metadata": {
  "kernelspec": {
   "display_name": "Python 3 (ipykernel)",
   "language": "python",
   "name": "python3"
  },
  "language_info": {
   "codemirror_mode": {
    "name": "ipython",
    "version": 3
   },
   "file_extension": ".py",
   "mimetype": "text/x-python",
   "name": "python",
   "nbconvert_exporter": "python",
   "pygments_lexer": "ipython3",
   "version": "3.12.4"
  }
 },
 "nbformat": 4,
 "nbformat_minor": 5
}
