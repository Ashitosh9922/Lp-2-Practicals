{
 "cells": [
  {
   "cell_type": "code",
   "execution_count": null,
   "id": "8c10eb2a",
   "metadata": {},
   "outputs": [
    {
     "name": "stdin",
     "output_type": "stream",
     "text": [
      "User:  hii\n"
     ]
    },
    {
     "name": "stdout",
     "output_type": "stream",
     "text": [
      "Bot: Hi!\n"
     ]
    },
    {
     "name": "stdin",
     "output_type": "stream",
     "text": [
      "User:  thank you\n"
     ]
    },
    {
     "name": "stdout",
     "output_type": "stream",
     "text": [
      "Bot: My pleasure!\n"
     ]
    }
   ],
   "source": [
    "import random\n",
    "\n",
    "# Dictionary of predefined responses\n",
    "responses = {\n",
    "    \"greeting\": [\"Hello!\", \"Hi!\", \"Welcome!\"],\n",
    "    \"farewell\": [\"Goodbye!\", \"See you later!\", \"Take care!\"],\n",
    "    \"thanks\": [\"You're welcome!\", \"No problem!\", \"My pleasure!\"],\n",
    "    \"default\": [\"I'm sorry, I didn't understand.\", \"Could you please rephrase?\", \"I'm not sure I follow.\"]\n",
    "}\n",
    "\n",
    "# Function to generate a response based on user input\n",
    "def generate_response(user_input):\n",
    "    user_input = user_input.lower()\n",
    "    \n",
    "    if \"hello\" in user_input or \"hi\" in user_input:\n",
    "        return random.choice(responses[\"greeting\"])\n",
    "    elif \"goodbye\" in user_input or \"bye\" in user_input:\n",
    "        return random.choice(responses[\"farewell\"])\n",
    "    elif \"thank\" in user_input:\n",
    "        return random.choice(responses[\"thanks\"])\n",
    "    else:\n",
    "        return random.choice(responses[\"default\"])\n",
    "\n",
    "# Main interaction loop\n",
    "while True:\n",
    "    \n",
    "    user_input = input(\"User: \")\n",
    "    \n",
    "    if user_input.lower() in [\"exit\", \"quit\"]:\n",
    "        print(\"Bot: Goodbye!\")\n",
    "        break\n",
    "\n",
    "    bot_response = generate_response(user_input)\n",
    "    print(\"Bot:\", bot_response)\n"
   ]
  },
  {
   "cell_type": "code",
   "execution_count": null,
   "id": "6e4bfdea",
   "metadata": {},
   "outputs": [],
   "source": []
  }
 ],
 "metadata": {
  "kernelspec": {
   "display_name": "Python 3 (ipykernel)",
   "language": "python",
   "name": "python3"
  },
  "language_info": {
   "codemirror_mode": {
    "name": "ipython",
    "version": 3
   },
   "file_extension": ".py",
   "mimetype": "text/x-python",
   "name": "python",
   "nbconvert_exporter": "python",
   "pygments_lexer": "ipython3",
   "version": "3.12.4"
  }
 },
 "nbformat": 4,
 "nbformat_minor": 5
}
