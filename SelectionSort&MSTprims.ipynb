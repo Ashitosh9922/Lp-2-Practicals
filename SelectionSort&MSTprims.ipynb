{
 "cells": [
  {
   "cell_type": "code",
   "execution_count": 3,
   "id": "f872a9c7-0831-4aec-b12d-c179c8a736b1",
   "metadata": {},
   "outputs": [
    {
     "name": "stdin",
     "output_type": "stream",
     "text": [
      "Enter the array elements separated by space:  89 56 45 34 65\n"
     ]
    },
    {
     "name": "stdout",
     "output_type": "stream",
     "text": [
      "Sorted array: [34, 45, 56, 65, 89]\n"
     ]
    }
   ],
   "source": [
    "#Selection Sort\n",
    "def selectionSort(arr):\n",
    "    n = len(arr)\n",
    "    for i in range(n):\n",
    "        min_index = i\n",
    "        for j in range(i + 1, n):\n",
    "            if arr[j] < arr[min_index]:\n",
    "                min_index = j\n",
    "        arr[i], arr[min_index] = arr[min_index], arr[i]\n",
    "    return arr\n",
    "\n",
    "arr = list(map(int, input(\"Enter the array elements separated by space: \").split()))\n",
    "print(\"Sorted array:\", selectionSort(arr))\n"
   ]
  },
  {
   "cell_type": "code",
   "execution_count": 1,
   "id": "bb9d0239-121a-4115-b795-db2d004075a1",
   "metadata": {},
   "outputs": [
    {
     "name": "stdout",
     "output_type": "stream",
     "text": [
      "Heuristic is used for helping to choose the next edge. If the heuristic values are lower, they are preferred.\n",
      "\n"
     ]
    },
    {
     "name": "stdin",
     "output_type": "stream",
     "text": [
      "Enter the number of vertices:  4\n"
     ]
    },
    {
     "name": "stdout",
     "output_type": "stream",
     "text": [
      "\n",
      "Enter the graph as an adjacency matrix (use 0 for no edge):\n"
     ]
    },
    {
     "name": "stdin",
     "output_type": "stream",
     "text": [
      "Row 0:  0 2 0 6\n",
      "Row 1:  2 0 3 8\n",
      "Row 2:  0 3 0 0\n",
      "Row 3:  6 8 0 0\n"
     ]
    },
    {
     "name": "stdout",
     "output_type": "stream",
     "text": [
      "\n",
      "Enter heuristic values for each vertex:\n"
     ]
    },
    {
     "name": "stdin",
     "output_type": "stream",
     "text": [
      "Heuristic value for vertex 0:  5\n",
      "Heuristic value for vertex 1:  3\n",
      "Heuristic value for vertex 2:  2\n",
      "Heuristic value for vertex 3:  4\n",
      "\n",
      "Enter the source vertex (0 to V-1):  0\n"
     ]
    },
    {
     "name": "stdout",
     "output_type": "stream",
     "text": [
      "\n",
      "Edge \tWeight \tHeuristic Value\n",
      "0 - 1 \t 2 \t 3\n",
      "1 - 2 \t 3 \t 2\n",
      "0 - 3 \t 6 \t 4\n",
      "\n",
      "Total MST Cost: 11\n"
     ]
    }
   ],
   "source": [
    "#Minimum Spanning Tree\n",
    "import sys\n",
    "\n",
    "class Graph():\n",
    "    def __init__(self, vertices):\n",
    "        self.V = vertices\n",
    "        self.graph = [[0 for _ in range(vertices)] for _ in range(vertices)]\n",
    "\n",
    "    def printMST(self, parent, heuristics, total_cost):\n",
    "        print(\"\\nEdge \\tWeight \\tHeuristic Value\")\n",
    "        for i in range(1, self.V):\n",
    "            print(f\"{parent[i]} - {i} \\t {self.graph[i][parent[i]]} \\t {heuristics[i]}\")\n",
    "        print(f\"\\nTotal MST Cost: {total_cost}\")\n",
    "\n",
    "    def minKey(self, key, mstSet):\n",
    "        min_val = sys.maxsize\n",
    "        min_index = -1\n",
    "        for v in range(self.V):\n",
    "            if key[v] < min_val and not mstSet[v]:\n",
    "                min_val = key[v]\n",
    "                min_index = v\n",
    "        return min_index\n",
    "\n",
    "    def primMST(self, heuristics, source=0):\n",
    "        key = [sys.maxsize] * self.V\n",
    "        parent = [None] * self.V\n",
    "        key[source] = 0\n",
    "        mstSet = [False] * self.V\n",
    "        parent[source] = -1\n",
    "\n",
    "        for _ in range(self.V):\n",
    "            u = self.minKey(key, mstSet)\n",
    "            mstSet[u] = True\n",
    "\n",
    "            for v in range(self.V):\n",
    "                if self.graph[u][v] > 0 and not mstSet[v] and self.graph[u][v] < key[v]:\n",
    "                    key[v] = self.graph[u][v]\n",
    "                    parent[v] = u\n",
    "\n",
    "        total_cost = sum(self.graph[i][parent[i]] for i in range(1, self.V))\n",
    "        self.printMST(parent, heuristics, total_cost)\n",
    "\n",
    "if __name__ == '__main__':             \n",
    "    print(\"Heuristic is used for helping to choose the next edge. If the heuristic values are lower, they are preferred.\\n\")\n",
    "\n",
    "    vertices = int(input(\"Enter the number of vertices: \"))\n",
    "    g = Graph(vertices)\n",
    "\n",
    "    print(\"\\nEnter the graph as an adjacency matrix (use 0 for no edge):\")\n",
    "    for i in range(vertices):\n",
    "        row = list(map(int, input(f\"Row {i}: \").split()))\n",
    "        for j in range(vertices):\n",
    "            g.graph[i][j] = row[j]\n",
    "\n",
    "    heuristics = []\n",
    "    print(\"\\nEnter heuristic values for each vertex:\")\n",
    "    for i in range(vertices):\n",
    "        h_value = int(input(f\"Heuristic value for vertex {i}: \"))\n",
    "        heuristics.append(h_value)\n",
    "\n",
    "    source_vertex = int(input(\"\\nEnter the source vertex (0 to V-1): \"))\n",
    "    g.primMST(heuristics, source=source_vertex)\n"
   ]
  },
  {
   "cell_type": "code",
   "execution_count": null,
   "id": "a53d80d7-aa15-48df-a3c9-9823be7b8aa1",
   "metadata": {},
   "outputs": [],
   "source": []
  },
  {
   "cell_type": "code",
   "execution_count": null,
   "id": "35836322-3b14-45f8-bb30-71ef91b4b65d",
   "metadata": {},
   "outputs": [],
   "source": []
  }
 ],
 "metadata": {
  "kernelspec": {
   "display_name": "Python 3 (ipykernel)",
   "language": "python",
   "name": "python3"
  },
  "language_info": {
   "codemirror_mode": {
    "name": "ipython",
    "version": 3
   },
   "file_extension": ".py",
   "mimetype": "text/x-python",
   "name": "python",
   "nbconvert_exporter": "python",
   "pygments_lexer": "ipython3",
   "version": "3.12.4"
  }
 },
 "nbformat": 4,
 "nbformat_minor": 5
}
