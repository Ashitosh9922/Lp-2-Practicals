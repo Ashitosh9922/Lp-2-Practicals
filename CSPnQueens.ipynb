{
 "cells": [
  {
   "cell_type": "code",
   "execution_count": 1,
   "id": "2d8eb389-14f8-4f15-af2b-0187949b1f23",
   "metadata": {},
   "outputs": [
    {
     "name": "stdin",
     "output_type": "stream",
     "text": [
      "Enter the number of Queens:  8\n"
     ]
    },
    {
     "name": "stdout",
     "output_type": "stream",
     "text": [
      "1 0 0 0 0 0 0 0\n",
      "0 0 0 0 1 0 0 0\n",
      "0 0 0 0 0 0 0 1\n",
      "0 0 0 0 0 1 0 0\n",
      "0 0 1 0 0 0 0 0\n",
      "0 0 0 0 0 0 1 0\n",
      "0 1 0 0 0 0 0 0\n",
      "0 0 0 1 0 0 0 0\n"
     ]
    }
   ],
   "source": [
    "#Branch and Bound\n",
    "def is_safe(arr, x, y, n):\n",
    "    for row in range(x):\n",
    "        if arr[row][y] == 1:\n",
    "            return False\n",
    "    row, col = x, y\n",
    "    while row >= 0 and col >= 0:\n",
    "        if arr[row][col] == 1:\n",
    "            return False\n",
    "        row -= 1\n",
    "        col -= 1\n",
    "    row, col = x, y\n",
    "    while row >= 0 and col < n:\n",
    "        if arr[row][col] == 1:\n",
    "            return False\n",
    "        row -= 1\n",
    "        col += 1\n",
    "    return True\n",
    "\n",
    "def branch_and_bound_nqueen(arr, x, n):\n",
    "    if x >= n:\n",
    "        return True\n",
    "    for col in range(n):\n",
    "        if is_safe(arr, x, col, n):\n",
    "            arr[x][col] = 1\n",
    "            if branch_and_bound_nqueen(arr, x + 1, n):\n",
    "                return True\n",
    "            arr[x][col] = 0\n",
    "    return False\n",
    "\n",
    "def main():\n",
    "    n = int(input(\"Enter the number of Queens: \"))\n",
    "    arr = [[0] * n for _ in range(n)]\n",
    "    if branch_and_bound_nqueen(arr, 0, n):\n",
    "        for row in arr:\n",
    "            print(' '.join(str(cell) for cell in row))\n",
    "    else:\n",
    "        print(\"No solution found.\")\n",
    "\n",
    "if __name__ == '__main__':\n",
    "    main()\n"
   ]
  },
  {
   "cell_type": "code",
   "execution_count": 3,
   "id": "a541cab4-1e80-45cd-8e43-d69c08ca39cb",
   "metadata": {},
   "outputs": [
    {
     "name": "stdin",
     "output_type": "stream",
     "text": [
      "Enter the size of the chessboard:  4\n"
     ]
    },
    {
     "name": "stdout",
     "output_type": "stream",
     "text": [
      "\n",
      "Total solutions for N = 4: 2\n",
      "\n",
      "Solution 1:\n",
      ".Q..\n",
      "...Q\n",
      "Q...\n",
      "..Q.\n",
      "\n",
      "Solution 2:\n",
      "..Q.\n",
      "Q...\n",
      "...Q\n",
      ".Q..\n",
      "\n"
     ]
    }
   ],
   "source": [
    "#BacktrackingNQueens\n",
    "class BacktrackingNQueens:\n",
    "    def __init__(self, n):\n",
    "        self.n = n\n",
    "        self.board = [[0 for _ in range(n)] for _ in range(n)]\n",
    "        self.solutions = []\n",
    "\n",
    "    def is_safe(self, row, col):\n",
    "        # Check the column\n",
    "        for i in range(row):\n",
    "            if self.board[i][col] == 1:\n",
    "                return False\n",
    "        # Check the diagonal (top-left to bottom-right)\n",
    "        for i in range(row):\n",
    "            if col - (row - i) >= 0 and self.board[i][col - (row - i)] == 1:\n",
    "                return False\n",
    "        # Check the diagonal (top-right to bottom-left)\n",
    "        for i in range(row):\n",
    "            if col + (row - i) < self.n and self.board[i][col + (row - i)] == 1:\n",
    "                return False\n",
    "        return True\n",
    "\n",
    "    def solve(self, row=0):\n",
    "        # If all queens are placed, store the solution\n",
    "        if row == self.n:\n",
    "            solution = []\n",
    "            for i in range(self.n):\n",
    "                row_solution = ''\n",
    "                for j in range(self.n):\n",
    "                    row_solution += 'Q' if self.board[i][j] == 1 else '.'\n",
    "                solution.append(row_solution)\n",
    "            self.solutions.append(solution)\n",
    "            return\n",
    "\n",
    "        # Try placing a queen in all columns of the current row\n",
    "        for col in range(self.n):\n",
    "            if self.is_safe(row, col):\n",
    "                self.board[row][col] = 1  # Place queen\n",
    "                self.solve(row + 1)  # Move to the next row\n",
    "                self.board[row][col] = 0  # Backtrack\n",
    "\n",
    "    def print_solutions(self):\n",
    "        print(f\"\\nTotal solutions for N = {self.n}: {len(self.solutions)}\\n\")\n",
    "        for idx, solution in enumerate(self.solutions, 1):\n",
    "            print(f\"Solution {idx}:\")\n",
    "            for row in solution:\n",
    "                print(row)\n",
    "            print()\n",
    "\n",
    "# Run the code\n",
    "if __name__ == \"__main__\":\n",
    "    try:\n",
    "        n = int(input(\"Enter the size of the chessboard: \"))\n",
    "        queens_bt = BacktrackingNQueens(n)\n",
    "        queens_bt.solve()\n",
    "        queens_bt.print_solutions()\n",
    "    except ValueError:\n",
    "        print(\"Please enter a valid integer.\")\n"
   ]
  },
  {
   "cell_type": "code",
   "execution_count": null,
   "id": "500d5c97-4da8-4831-b89c-d0b92c69b2d2",
   "metadata": {},
   "outputs": [],
   "source": []
  }
 ],
 "metadata": {
  "kernelspec": {
   "display_name": "Python 3 (ipykernel)",
   "language": "python",
   "name": "python3"
  },
  "language_info": {
   "codemirror_mode": {
    "name": "ipython",
    "version": 3
   },
   "file_extension": ".py",
   "mimetype": "text/x-python",
   "name": "python",
   "nbconvert_exporter": "python",
   "pygments_lexer": "ipython3",
   "version": "3.12.4"
  }
 },
 "nbformat": 4,
 "nbformat_minor": 5
}
